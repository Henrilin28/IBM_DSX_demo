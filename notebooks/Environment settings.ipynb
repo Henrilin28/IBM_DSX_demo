{
    "nbformat": 4, 
    "cells": [
        {
            "cell_type": "code", 
            "execution_count": 94, 
            "metadata": {
                "collapsed": false
            }, 
            "source": "### set up github connection ", 
            "outputs": []
        }, 
        {
            "cell_type": "code", 
            "execution_count": null, 
            "metadata": {
                "collapsed": true
            }, 
            "source": "", 
            "outputs": []
        }, 
        {
            "cell_type": "code", 
            "execution_count": null, 
            "metadata": {
                "collapsed": true
            }, 
            "source": "", 
            "outputs": []
        }, 
        {
            "cell_type": "code", 
            "execution_count": null, 
            "metadata": {
                "collapsed": true
            }, 
            "source": "", 
            "outputs": []
        }, 
        {
            "cell_type": "code", 
            "execution_count": null, 
            "metadata": {
                "collapsed": true
            }, 
            "source": "###", 
            "outputs": []
        }, 
        {
            "cell_type": "code", 
            "execution_count": 110, 
            "metadata": {
                "collapsed": false
            }, 
            "source": "from IPython.core.display import Image, display\n\ndisplay(Image(url= \"https://i.gyazo.com/beebf62dae778e7c0b4fd208e15efa01.png\", width=1000, height=500))\ndisplay(Image(url= \"https://i.gyazo.com/2639beb790851d60dacc361915940d4c.png\", width=1000, height=500))", 
            "outputs": [
                {
                    "data": {
                        "text/html": "<img src=\"https://i.gyazo.com/beebf62dae778e7c0b4fd208e15efa01.png\" width=\"1000\" height=\"500\"/>", 
                        "text/plain": "<IPython.core.display.Image object>"
                    }, 
                    "metadata": {}, 
                    "output_type": "display_data"
                }, 
                {
                    "data": {
                        "text/html": "<img src=\"https://i.gyazo.com/2639beb790851d60dacc361915940d4c.png\" width=\"1000\" height=\"500\"/>", 
                        "text/plain": "<IPython.core.display.Image object>"
                    }, 
                    "metadata": {}, 
                    "output_type": "display_data"
                }
            ]
        }, 
        {
            "cell_type": "code", 
            "execution_count": null, 
            "metadata": {
                "collapsed": true
            }, 
            "source": "#### Paste your repo link on github\n\n#### click add button and it will comeup with a dialog for you to enter the asccess token.", 
            "outputs": []
        }, 
        {
            "cell_type": "code", 
            "execution_count": 108, 
            "metadata": {
                "collapsed": false
            }, 
            "source": "# https://i.gyazo.com/7f004b90620740463193da15c8c3128f.png\ndisplay(Image(url= \"https://i.gyazo.com/7f004b90620740463193da15c8c3128f.png\", width=1000, height=500))", 
            "outputs": [
                {
                    "data": {
                        "text/html": "<img src=\"https://i.gyazo.com/7f004b90620740463193da15c8c3128f.png\" width=\"1000\" height=\"500\"/>", 
                        "text/plain": "<IPython.core.display.Image object>"
                    }, 
                    "metadata": {}, 
                    "output_type": "display_data"
                }
            ]
        }, 
        {
            "cell_type": "code", 
            "execution_count": 113, 
            "metadata": {
                "collapsed": false
            }, 
            "source": "display(Image(url= \"https://i.gyazo.com/a3f6be274b760955519411b4f3473928.png\", width=1000, height=500))", 
            "outputs": [
                {
                    "data": {
                        "text/html": "<img src=\"https://i.gyazo.com/a3f6be274b760955519411b4f3473928.png\" width=\"1000\" height=\"500\"/>", 
                        "text/plain": "<IPython.core.display.Image object>"
                    }, 
                    "metadata": {}, 
                    "output_type": "display_data"
                }
            ]
        }, 
        {
            "cell_type": "code", 
            "execution_count": 111, 
            "metadata": {
                "collapsed": true
            }, 
            "source": "#### Advanced topic", 
            "outputs": []
        }, 
        {
            "cell_type": "markdown", 
            "metadata": {}, 
            "source": "CELL MAGIC: http://nbviewer.jupyter.org/github/ipython/ipython/blob/1.x/examples/notebooks/Cell%20Magics.ipynb"
        }, 
        {
            "cell_type": "code", 
            "execution_count": 81, 
            "metadata": {
                "collapsed": false
            }, 
            "source": "%%writefile test.py \n\nimport numpy as np\n\nprint(np.array([1,0,0,0,1]))", 
            "outputs": [
                {
                    "name": "stdout", 
                    "output_type": "stream", 
                    "text": "Writing test.py\n"
                }
            ]
        }, 
        {
            "cell_type": "code", 
            "execution_count": 82, 
            "metadata": {
                "collapsed": false
            }, 
            "source": "%run test.py", 
            "outputs": [
                {
                    "name": "stdout", 
                    "output_type": "stream", 
                    "text": "[1 0 0 0 1]\n"
                }
            ]
        }, 
        {
            "cell_type": "code", 
            "execution_count": 83, 
            "metadata": {
                "collapsed": true
            }, 
            "source": "### setting up github connection", 
            "outputs": []
        }, 
        {
            "cell_type": "code", 
            "execution_count": 84, 
            "metadata": {
                "collapsed": false
            }, 
            "source": "!pwd", 
            "outputs": [
                {
                    "name": "stdout", 
                    "output_type": "stream", 
                    "text": "/gpfs/global_fs01/sym_shared/YPProdSpark/user/s842-3f06eb9794d110-66e02a98984e\r\n"
                }
            ]
        }, 
        {
            "cell_type": "code", 
            "execution_count": 85, 
            "metadata": {
                "collapsed": false
            }, 
            "source": "%cd /gpfs/fs01/user/s842-3f06eb9794d110-66e02a98984e/\n", 
            "outputs": [
                {
                    "name": "stdout", 
                    "output_type": "stream", 
                    "text": "/gpfs/global_fs01/sym_shared/YPProdSpark/user/s842-3f06eb9794d110-66e02a98984e\n"
                }
            ]
        }, 
        {
            "cell_type": "code", 
            "execution_count": 86, 
            "metadata": {
                "collapsed": false
            }, 
            "source": "%ls", 
            "outputs": [
                {
                    "name": "stdout", 
                    "output_type": "stream", 
                    "text": "\u001b[0m\u001b[01;34mdata\u001b[0m/  \u001b[01;34mevents\u001b[0m/  \u001b[01;34mlogs\u001b[0m/  \u001b[01;34mnotebook\u001b[0m/  stderr.log  stdout.log  test.py\r\n"
                }
            ]
        }, 
        {
            "cell_type": "code", 
            "execution_count": 91, 
            "metadata": {
                "collapsed": false
            }, 
            "source": "%ls", 
            "outputs": [
                {
                    "name": "stdout", 
                    "output_type": "stream", 
                    "text": "\u001b[0m\u001b[01;34mdata\u001b[0m/  \u001b[01;34mevents\u001b[0m/  \u001b[01;34mlogs\u001b[0m/  \u001b[01;34mnotebook\u001b[0m/  stderr.log  stdout.log  test.py\r\n"
                }
            ]
        }, 
        {
            "cell_type": "code", 
            "execution_count": 93, 
            "metadata": {
                "collapsed": false
            }, 
            "source": "%popd", 
            "outputs": [
                {
                    "name": "stdout", 
                    "output_type": "stream", 
                    "text": "/gpfs/global_fs01/sym_shared/YPProdSpark/user/s842-3f06eb9794d110-66e02a98984e\npopd -> ~\n"
                }
            ]
        }, 
        {
            "cell_type": "code", 
            "execution_count": 16, 
            "metadata": {
                "collapsed": false
            }, 
            "source": "# The code was removed by DSX for sharing.", 
            "outputs": [
                {
                    "name": "stdout", 
                    "output_type": "stream", 
                    "text": "ls: cannot open directory .: Permission denied\r\n"
                }
            ]
        }, 
        {
            "cell_type": "code", 
            "execution_count": null, 
            "metadata": {
                "collapsed": true
            }, 
            "source": "# if you don't care about persistence, just save to the notebooks/work with:\n!git clone https://github.com/jimcrozier/testdsx.git\n\n# if you do care about persistence\n# move up gpfs out of notebooks\n# get your DSX_HOME with !pwd\n%cd /gpfs/global_fs01/sym_shared/YPProdSpark/user/DSX_HOME\n!git clone https://github.com/GITHUBNAME/testdsx.git\n\n# move to the project's home directory  \n# notice that you will need your DSX_HOME, just use !pwd\n%cd /gpfs/global_fs01/sym_shared/YPProdSpark/user/DSX_HOME\n\n# pull the repo, from the home directory of the project\n!git pull\n\n# you will rarely need to push a repo, but here is how\n# from the home directory of the project\n!git add .\n!git commit -m 'something useful message'\n!git push", 
            "outputs": []
        }
    ], 
    "metadata": {
        "kernelspec": {
            "display_name": "Python 3.5 (Experimental) with Spark 2.1", 
            "language": "python", 
            "name": "python3-spark21"
        }, 
        "language_info": {
            "codemirror_mode": {
                "version": 3, 
                "name": "ipython"
            }, 
            "version": "3.5.2", 
            "name": "python", 
            "file_extension": ".py", 
            "nbconvert_exporter": "python", 
            "mimetype": "text/x-python", 
            "pygments_lexer": "ipython3"
        }
    }, 
    "nbformat_minor": 0
}